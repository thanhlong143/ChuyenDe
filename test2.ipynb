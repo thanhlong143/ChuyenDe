{
 "cells": [
  {
   "cell_type": "code",
   "execution_count": 2,
   "metadata": {},
   "outputs": [],
   "source": [
    "# Nhập thư viện \n",
    "import pandas as pd\n",
    "import math\n",
    "import numpy as np\n",
    "import graphviz\n",
    "import matplotlib.pyplot as plt"
   ]
  },
  {
   "cell_type": "code",
   "execution_count": 3,
   "metadata": {},
   "outputs": [],
   "source": [
    "# dataset = pd.read_csv('./data.csv')\n",
    "\n",
    "dataset = pd.DataFrame({\n",
    "    'outlook': ['sunny', 'sunny', 'overcast', 'rain', 'rain', 'rain', 'overcast', 'sunny', 'sunny', 'rain', 'sunny', 'overcast', 'overcast', 'rain'],\n",
    "    'temperature': ['hot', 'hot', 'hot', 'mild', 'cool', 'cool', 'cool', 'mild', 'cool', 'mild', 'mild', 'mild', 'hot', 'mild'],\n",
    "    'humidity': ['high', 'high', 'high', 'high', 'normal', 'normal', 'normal', 'high', 'normal', 'normal', 'normal', 'high', 'normal', 'high'],\n",
    "    'wind': ['weak', 'strong', 'weak', 'weak', 'weak', 'strong', 'strong', 'weak', 'weak', 'weak', 'strong', 'strong', 'weak', 'strong'],\n",
    "    'answer': ['no', 'no', 'yes', 'yes', 'yes', 'no', 'yes', 'no', 'yes', 'yes', 'yes', 'yes', 'yes', 'no']\n",
    "})"
   ]
  },
  {
   "cell_type": "code",
   "execution_count": 4,
   "metadata": {},
   "outputs": [
    {
     "name": "stdout",
     "output_type": "stream",
     "text": [
      "     outlook temperature humidity    wind answer\n",
      "0      sunny         hot     high    weak     no\n",
      "1      sunny         hot     high  strong     no\n",
      "2   overcast         hot     high    weak    yes\n",
      "3       rain        mild     high    weak    yes\n",
      "4       rain        cool   normal    weak    yes\n",
      "5       rain        cool   normal  strong     no\n",
      "6   overcast        cool   normal  strong    yes\n",
      "7      sunny        mild     high    weak     no\n",
      "8      sunny        cool   normal    weak    yes\n",
      "9       rain        mild   normal    weak    yes\n",
      "10     sunny        mild   normal  strong    yes\n",
      "11  overcast        mild     high  strong    yes\n",
      "12  overcast         hot   normal    weak    yes\n",
      "13      rain        mild     high  strong     no\n"
     ]
    }
   ],
   "source": [
    "print(dataset)"
   ]
  },
  {
   "cell_type": "code",
   "execution_count": 5,
   "metadata": {},
   "outputs": [
    {
     "data": {
      "text/html": [
       "<div>\n",
       "<style scoped>\n",
       "    .dataframe tbody tr th:only-of-type {\n",
       "        vertical-align: middle;\n",
       "    }\n",
       "\n",
       "    .dataframe tbody tr th {\n",
       "        vertical-align: top;\n",
       "    }\n",
       "\n",
       "    .dataframe thead th {\n",
       "        text-align: right;\n",
       "    }\n",
       "</style>\n",
       "<table border=\"1\" class=\"dataframe\">\n",
       "  <thead>\n",
       "    <tr style=\"text-align: right;\">\n",
       "      <th></th>\n",
       "      <th>outlook</th>\n",
       "      <th>temperature</th>\n",
       "      <th>humidity</th>\n",
       "      <th>wind</th>\n",
       "      <th>answer</th>\n",
       "    </tr>\n",
       "  </thead>\n",
       "  <tbody>\n",
       "    <tr>\n",
       "      <th>count</th>\n",
       "      <td>14</td>\n",
       "      <td>14</td>\n",
       "      <td>14</td>\n",
       "      <td>14</td>\n",
       "      <td>14</td>\n",
       "    </tr>\n",
       "    <tr>\n",
       "      <th>unique</th>\n",
       "      <td>3</td>\n",
       "      <td>3</td>\n",
       "      <td>2</td>\n",
       "      <td>2</td>\n",
       "      <td>2</td>\n",
       "    </tr>\n",
       "    <tr>\n",
       "      <th>top</th>\n",
       "      <td>sunny</td>\n",
       "      <td>mild</td>\n",
       "      <td>high</td>\n",
       "      <td>weak</td>\n",
       "      <td>yes</td>\n",
       "    </tr>\n",
       "    <tr>\n",
       "      <th>freq</th>\n",
       "      <td>5</td>\n",
       "      <td>6</td>\n",
       "      <td>7</td>\n",
       "      <td>8</td>\n",
       "      <td>9</td>\n",
       "    </tr>\n",
       "  </tbody>\n",
       "</table>\n",
       "</div>"
      ],
      "text/plain": [
       "       outlook temperature humidity  wind answer\n",
       "count       14          14       14    14     14\n",
       "unique       3           3        2     2      2\n",
       "top      sunny        mild     high  weak    yes\n",
       "freq         5           6        7     8      9"
      ]
     },
     "execution_count": 5,
     "metadata": {},
     "output_type": "execute_result"
    }
   ],
   "source": [
    "dataset.describe()"
   ]
  },
  {
   "cell_type": "code",
   "execution_count": 6,
   "metadata": {},
   "outputs": [
    {
     "name": "stdout",
     "output_type": "stream",
     "text": [
      "Gini index(outlook) = 0.34285714285714286\n",
      "Gini index(temperature) = 0.44047619047619047\n",
      "Gini index(humidity) = 0.3673469387755103\n",
      "Gini index(wind) = 0.42857142857142855\n"
     ]
    }
   ],
   "source": [
    "def gini(probs):\n",
    "    impurity = 1\n",
    "    for prob in probs:\n",
    "        impurity -= prob ** 2\n",
    "    return impurity\n",
    "\n",
    "def gini_index(data, split_attribute_name, target_name):\n",
    "    total_gini = gini(data[target_name].value_counts(normalize=True))\n",
    "    weighted_gini = 0\n",
    "    for subset_name, subset in data.groupby(split_attribute_name):\n",
    "        subset_gini = gini(subset[target_name].value_counts(normalize=True))\n",
    "        weighted_gini += (len(subset) / len(data)) * subset_gini\n",
    "    gini_index = weighted_gini\n",
    "    return gini_index\n",
    "\n",
    "gini_age = gini_index(dataset, 'outlook', 'answer')\n",
    "gini_temperature = gini_index(dataset, 'temperature', 'answer')\n",
    "gini_humidity = gini_index(dataset, 'humidity', 'answer')\n",
    "gini_wind = gini_index(dataset, 'wind', 'answer')\n",
    "\n",
    "print('Gini index(outlook) =', gini_age)\n",
    "print('Gini index(temperature) =', gini_temperature)\n",
    "print('Gini index(humidity) =', gini_humidity)\n",
    "print('Gini index(wind) =', gini_wind)"
   ]
  },
  {
   "attachments": {},
   "cell_type": "markdown",
   "metadata": {},
   "source": [
    "<img src=\"./img/gain.png\" width=\"400\"/>"
   ]
  },
  {
   "cell_type": "code",
   "execution_count": 7,
   "metadata": {},
   "outputs": [],
   "source": [
    "# entropy:\n",
    "def entropy(probs):\n",
    "    entropy = 0\n",
    "    for prob in probs:\n",
    "        if prob != 0:\n",
    "            entropy += prob * math.log2(prob)\n",
    "    return -entropy"
   ]
  },
  {
   "cell_type": "code",
   "execution_count": 8,
   "metadata": {},
   "outputs": [],
   "source": [
    "# information gained\n",
    "def information_gain(data, split_attribute_name, target_name):\n",
    "    total_entropy = entropy(data[target_name].value_counts(normalize=True))\n",
    "    weighted_entropy = 0\n",
    "    for subset_name, subset in data.groupby(split_attribute_name):\n",
    "        subset_entropy = entropy(subset[target_name].value_counts(normalize=True))\n",
    "        \n",
    "        # information needed:\n",
    "        weighted_entropy += (len(subset) / len(data)) * subset_entropy\n",
    "    \n",
    "    information_gain = total_entropy - weighted_entropy\n",
    "    return information_gain"
   ]
  },
  {
   "cell_type": "code",
   "execution_count": 9,
   "metadata": {},
   "outputs": [
    {
     "name": "stdout",
     "output_type": "stream",
     "text": [
      "Gain(outlook) = 0.24674981977443933\n",
      "Gain(temperature) = 0.02922256565895487\n",
      "Gain(humidity) = 0.15183550136234159\n",
      "Gain(wind) = 0.04812703040826949\n"
     ]
    }
   ],
   "source": [
    "# gọi hàm và in \n",
    "iga = information_gain(dataset, 'outlook', 'answer')\n",
    "igi = information_gain(dataset, 'temperature', 'answer')\n",
    "igs = information_gain(dataset, 'humidity', 'answer')\n",
    "igc = information_gain(dataset, 'wind', 'answer')\n",
    "print('Gain(outlook) =', iga)\n",
    "print('Gain(temperature) =', igi)\n",
    "print('Gain(humidity) =', igs)\n",
    "print('Gain(wind) =', igc)"
   ]
  },
  {
   "attachments": {},
   "cell_type": "markdown",
   "metadata": {},
   "source": [
    "# Phân chia dữ liệu\n",
    "\n",
    "<img src=\"./img/split_infor.png\" width=\"400\"/>"
   ]
  },
  {
   "cell_type": "code",
   "execution_count": 10,
   "metadata": {},
   "outputs": [],
   "source": [
    "def split_information(data, split_attribute_name):\n",
    "    num_entries = len(data)\n",
    "    value_counts = data[split_attribute_name].value_counts()\n",
    "    probs = value_counts / num_entries\n",
    "    split_infor = -(probs * np.log2(probs)).sum()\n",
    "    return split_infor"
   ]
  },
  {
   "attachments": {},
   "cell_type": "markdown",
   "metadata": {},
   "source": [
    "<img src=\"./img/gain_ratio.png\" width=\"400\"/>"
   ]
  },
  {
   "cell_type": "code",
   "execution_count": 11,
   "metadata": {},
   "outputs": [],
   "source": [
    "# Gain ratio\n",
    "def gain_ratio(dataset, split_attribute_name, target_name):\n",
    "    split_info = split_information(dataset, split_attribute_name)\n",
    "    gain = information_gain(dataset, split_attribute_name, target_name)\n",
    "    if split_info == 0:\n",
    "        return 0\n",
    "    \n",
    "    return gain / split_info"
   ]
  },
  {
   "cell_type": "code",
   "execution_count": 12,
   "metadata": {},
   "outputs": [
    {
     "name": "stdout",
     "output_type": "stream",
     "text": [
      "gain_ratio(outlook) = 0.15642756242117528\n",
      "gain_ratio(temperature) = 0.018772646222418813\n",
      "gain_ratio(humidity) = 0.15183550136234159\n",
      "gain_ratio(wind) = 0.048848615511520824\n"
     ]
    }
   ],
   "source": [
    "gain_ratio_age = gain_ratio(dataset, 'outlook', 'answer')\n",
    "gain_ratio_temperature = gain_ratio(dataset, 'temperature', 'answer')\n",
    "gain_ratio_humidity = gain_ratio(dataset, 'humidity', 'answer')\n",
    "gain_ratio_wind = gain_ratio(dataset, 'wind', 'answer')\n",
    "print('gain_ratio(outlook) =', gain_ratio_age)\n",
    "print('gain_ratio(temperature) =', gain_ratio_temperature)\n",
    "print('gain_ratio(humidity) =', gain_ratio_humidity)\n",
    "print('gain_ratio(wind) =', gain_ratio_wind)"
   ]
  },
  {
   "cell_type": "code",
   "execution_count": 13,
   "metadata": {},
   "outputs": [],
   "source": [
    "# Tạo cấu trúc cây quyết định theo thuật toán ID3 \n",
    "def id3(data, original_data, features, target_attribute_name, parent_node_class=None):\n",
    "\n",
    "    # Nếu tất cả các giá trị đều giống nhau, thì trả về một giá trị\n",
    "    if len(np.unique(data[target_attribute_name])) <= 1:\n",
    "        return np.unique(data[target_attribute_name])[0]\n",
    "\n",
    "    # Nếu tệp dữ liễu trống, thì trả về chế độ mặc định của tập dữ liệu gốc\n",
    "    elif len(data) == 0:\n",
    "        return np.unique(original_data[target_attribute_name])[np.argmax(original_data[target_attribute_name].value_counts())]\n",
    "    \n",
    "    #\n",
    "    elif len(features) == 0:\n",
    "        return parent_node_class\n",
    "\n",
    "    else:\n",
    "        # đặt giá trị mặc định cho node của tập con hợp con hiện tại\n",
    "        parent_node_class = np.unique(data[target_attribute_name])[np.argmax(data[target_attribute_name].value_counts())]\n",
    "\n",
    "        # Chọn đặc trưng phân chia dữ liệu tốt nhất \n",
    "        item_values = [information_gain(data, feature, target_attribute_name) for feature in features] # Return the information gain values for the features in the dataset\n",
    "        best_feature_index = np.argmax(item_values)\n",
    "        best_feature = features[best_feature_index]\n",
    "\n",
    "        # Tạo cấu trúc cây, gốc cây là tên của đặc trưng \n",
    "        tree = {best_feature: {}}\n",
    "\n",
    "        # Xóa những đặc trưng đã được thêm vào \n",
    "        features = [i for i in features if i != best_feature]\n",
    "\n",
    "        # Thêm nhánh cho đặc trưng gốc \n",
    "        for value in np.unique(data[best_feature]):\n",
    "            value = value\n",
    "\n",
    "            # Phân chia tập dữ liệu theo đối tượng có thông tin lớn nhất và tạo tập dữ liệu con\n",
    "            sub_data = data.where(data[best_feature] == value).dropna()\n",
    "\n",
    "            # gọi thuật toán ID3 cho mội tập dữ liệu con \n",
    "            subtree = id3(sub_data, dataset, features, target_attribute_name, parent_node_class)\n",
    "\n",
    "            # thêm nhánh phụ, phát triển các nhánh phụ \n",
    "            tree[best_feature][value] = subtree\n",
    "\n",
    "        return tree\n"
   ]
  },
  {
   "cell_type": "code",
   "execution_count": 14,
   "metadata": {},
   "outputs": [],
   "source": [
    "target_attribute_name = 'answer'\n",
    "features = dataset.columns.tolist()[:-1]\n",
    "id3_tree = id3(dataset, dataset, features, target_attribute_name)"
   ]
  },
  {
   "cell_type": "code",
   "execution_count": 15,
   "metadata": {},
   "outputs": [
    {
     "data": {
      "image/svg+xml": "<?xml version=\"1.0\" encoding=\"UTF-8\" standalone=\"no\"?>\n<!DOCTYPE svg PUBLIC \"-//W3C//DTD SVG 1.1//EN\"\n \"http://www.w3.org/Graphics/SVG/1.1/DTD/svg11.dtd\">\n<!-- Generated by graphviz version 7.1.0 (20230121.1956)\n -->\n<!-- Pages: 1 -->\n<svg width=\"328pt\" height=\"291pt\"\n viewBox=\"0.00 0.00 328.34 291.00\" xmlns=\"http://www.w3.org/2000/svg\" xmlns:xlink=\"http://www.w3.org/1999/xlink\">\n<g id=\"graph0\" class=\"graph\" transform=\"scale(1 1) rotate(0) translate(4 287)\">\n<polygon fill=\"white\" stroke=\"none\" points=\"-4,4 -4,-287 324.34,-287 324.34,4 -4,4\"/>\n<!-- outlook -->\n<g id=\"node1\" class=\"node\">\n<title>outlook</title>\n<ellipse fill=\"none\" stroke=\"black\" cx=\"128.6\" cy=\"-265\" rx=\"38.19\" ry=\"18\"/>\n<text text-anchor=\"middle\" x=\"128.6\" y=\"-261.3\" font-family=\"Times New Roman,serif\" font-size=\"14.00\">outlook</text>\n</g>\n<!-- overcast -->\n<g id=\"node2\" class=\"node\">\n<title>overcast</title>\n<ellipse fill=\"none\" stroke=\"black\" cx=\"41.6\" cy=\"-178\" rx=\"41.69\" ry=\"18\"/>\n<text text-anchor=\"middle\" x=\"41.6\" y=\"-174.3\" font-family=\"Times New Roman,serif\" font-size=\"14.00\">overcast</text>\n</g>\n<!-- outlook&#45;&gt;overcast -->\n<g id=\"edge1\" class=\"edge\">\n<title>outlook&#45;&gt;overcast</title>\n<path fill=\"none\" stroke=\"black\" d=\"M112.64,-248.41C99.48,-235.55 80.6,-217.11 65.61,-202.46\"/>\n<polygon fill=\"black\" stroke=\"black\" points=\"68.43,-200.32 58.83,-195.84 63.54,-205.33 68.43,-200.32\"/>\n<text text-anchor=\"middle\" x=\"100.1\" y=\"-217.8\" font-family=\"Times New Roman,serif\" font-size=\"14.00\">yes</text>\n</g>\n<!-- rain -->\n<g id=\"node3\" class=\"node\">\n<title>rain</title>\n<ellipse fill=\"none\" stroke=\"black\" cx=\"128.6\" cy=\"-178\" rx=\"27\" ry=\"18\"/>\n<text text-anchor=\"middle\" x=\"128.6\" y=\"-174.3\" font-family=\"Times New Roman,serif\" font-size=\"14.00\">rain</text>\n</g>\n<!-- outlook&#45;&gt;rain -->\n<g id=\"edge2\" class=\"edge\">\n<title>outlook&#45;&gt;rain</title>\n<path fill=\"none\" stroke=\"black\" d=\"M128.6,-246.8C128.6,-235.58 128.6,-220.67 128.6,-207.69\"/>\n<polygon fill=\"black\" stroke=\"black\" points=\"132.1,-207.98 128.6,-197.98 125.1,-207.98 132.1,-207.98\"/>\n</g>\n<!-- sunny -->\n<g id=\"node7\" class=\"node\">\n<title>sunny</title>\n<ellipse fill=\"none\" stroke=\"black\" cx=\"208.6\" cy=\"-178\" rx=\"32.49\" ry=\"18\"/>\n<text text-anchor=\"middle\" x=\"208.6\" y=\"-174.3\" font-family=\"Times New Roman,serif\" font-size=\"14.00\">sunny</text>\n</g>\n<!-- outlook&#45;&gt;sunny -->\n<g id=\"edge6\" class=\"edge\">\n<title>outlook&#45;&gt;sunny</title>\n<path fill=\"none\" stroke=\"black\" d=\"M143.64,-248.01C155.75,-235.15 172.94,-216.89 186.59,-202.38\"/>\n<polygon fill=\"black\" stroke=\"black\" points=\"188.81,-205.13 193.12,-195.45 183.72,-200.33 188.81,-205.13\"/>\n</g>\n<!-- wind -->\n<g id=\"node4\" class=\"node\">\n<title>wind</title>\n<ellipse fill=\"none\" stroke=\"black\" cx=\"121.6\" cy=\"-105\" rx=\"28.7\" ry=\"18\"/>\n<text text-anchor=\"middle\" x=\"121.6\" y=\"-101.3\" font-family=\"Times New Roman,serif\" font-size=\"14.00\">wind</text>\n</g>\n<!-- rain&#45;&gt;wind -->\n<g id=\"edge3\" class=\"edge\">\n<title>rain&#45;&gt;wind</title>\n<path fill=\"none\" stroke=\"black\" d=\"M126.9,-159.81C126.15,-152.14 125.23,-142.89 124.38,-134.24\"/>\n<polygon fill=\"black\" stroke=\"black\" points=\"127.89,-134.14 123.42,-124.54 120.92,-134.83 127.89,-134.14\"/>\n</g>\n<!-- strong -->\n<g id=\"node5\" class=\"node\">\n<title>strong</title>\n<ellipse fill=\"none\" stroke=\"black\" cx=\"44.6\" cy=\"-18\" rx=\"33.6\" ry=\"18\"/>\n<text text-anchor=\"middle\" x=\"44.6\" y=\"-14.3\" font-family=\"Times New Roman,serif\" font-size=\"14.00\">strong</text>\n</g>\n<!-- wind&#45;&gt;strong -->\n<g id=\"edge4\" class=\"edge\">\n<title>wind&#45;&gt;strong</title>\n<path fill=\"none\" stroke=\"black\" d=\"M107.83,-88.8C96.26,-76.03 79.52,-57.55 66.17,-42.81\"/>\n<polygon fill=\"black\" stroke=\"black\" points=\"69.09,-40.82 59.78,-35.76 63.9,-45.52 69.09,-40.82\"/>\n<text text-anchor=\"middle\" x=\"96.1\" y=\"-57.8\" font-family=\"Times New Roman,serif\" font-size=\"14.00\">no</text>\n</g>\n<!-- weak -->\n<g id=\"node6\" class=\"node\">\n<title>weak</title>\n<ellipse fill=\"none\" stroke=\"black\" cx=\"125.6\" cy=\"-18\" rx=\"29.5\" ry=\"18\"/>\n<text text-anchor=\"middle\" x=\"125.6\" y=\"-14.3\" font-family=\"Times New Roman,serif\" font-size=\"14.00\">weak</text>\n</g>\n<!-- wind&#45;&gt;weak -->\n<g id=\"edge5\" class=\"edge\">\n<title>wind&#45;&gt;weak</title>\n<path fill=\"none\" stroke=\"black\" d=\"M122.41,-86.8C122.93,-75.58 123.64,-60.67 124.25,-47.69\"/>\n<polygon fill=\"black\" stroke=\"black\" points=\"127.73,-48.13 124.7,-37.98 120.74,-47.8 127.73,-48.13\"/>\n<text text-anchor=\"middle\" x=\"134.1\" y=\"-57.8\" font-family=\"Times New Roman,serif\" font-size=\"14.00\">yes</text>\n</g>\n<!-- humidity -->\n<g id=\"node8\" class=\"node\">\n<title>humidity</title>\n<ellipse fill=\"none\" stroke=\"black\" cx=\"210.6\" cy=\"-105\" rx=\"42.49\" ry=\"18\"/>\n<text text-anchor=\"middle\" x=\"210.6\" y=\"-101.3\" font-family=\"Times New Roman,serif\" font-size=\"14.00\">humidity</text>\n</g>\n<!-- sunny&#45;&gt;humidity -->\n<g id=\"edge7\" class=\"edge\">\n<title>sunny&#45;&gt;humidity</title>\n<path fill=\"none\" stroke=\"black\" d=\"M209.08,-159.81C209.3,-152.14 209.56,-142.89 209.8,-134.24\"/>\n<polygon fill=\"black\" stroke=\"black\" points=\"213.29,-134.64 210.07,-124.54 206.29,-134.44 213.29,-134.64\"/>\n</g>\n<!-- high -->\n<g id=\"node9\" class=\"node\">\n<title>high</title>\n<ellipse fill=\"none\" stroke=\"black\" cx=\"203.6\" cy=\"-18\" rx=\"27\" ry=\"18\"/>\n<text text-anchor=\"middle\" x=\"203.6\" y=\"-14.3\" font-family=\"Times New Roman,serif\" font-size=\"14.00\">high</text>\n</g>\n<!-- humidity&#45;&gt;high -->\n<g id=\"edge8\" class=\"edge\">\n<title>humidity&#45;&gt;high</title>\n<path fill=\"none\" stroke=\"black\" d=\"M209.18,-86.8C208.26,-75.58 207.03,-60.67 205.96,-47.69\"/>\n<polygon fill=\"black\" stroke=\"black\" points=\"209.47,-47.65 205.16,-37.98 202.49,-48.23 209.47,-47.65\"/>\n<text text-anchor=\"middle\" x=\"215.1\" y=\"-57.8\" font-family=\"Times New Roman,serif\" font-size=\"14.00\">no</text>\n</g>\n<!-- normal -->\n<g id=\"node10\" class=\"node\">\n<title>normal</title>\n<ellipse fill=\"none\" stroke=\"black\" cx=\"284.6\" cy=\"-18\" rx=\"36\" ry=\"18\"/>\n<text text-anchor=\"middle\" x=\"284.6\" y=\"-14.3\" font-family=\"Times New Roman,serif\" font-size=\"14.00\">normal</text>\n</g>\n<!-- humidity&#45;&gt;normal -->\n<g id=\"edge9\" class=\"edge\">\n<title>humidity&#45;&gt;normal</title>\n<path fill=\"none\" stroke=\"black\" d=\"M224.86,-87.61C235.79,-75.07 251.02,-57.57 263.37,-43.38\"/>\n<polygon fill=\"black\" stroke=\"black\" points=\"265.7,-46.03 269.63,-36.19 260.42,-41.44 265.7,-46.03\"/>\n<text text-anchor=\"middle\" x=\"261.1\" y=\"-57.8\" font-family=\"Times New Roman,serif\" font-size=\"14.00\">yes</text>\n</g>\n</g>\n</svg>\n",
      "text/plain": [
       "<graphviz.graphs.Digraph at 0x25e2ffd32d0>"
      ]
     },
     "execution_count": 15,
     "metadata": {},
     "output_type": "execute_result"
    }
   ],
   "source": [
    "#Vẽ cây\n",
    "\n",
    "def visualize_tree(tree):\n",
    "    dot = graphviz.Digraph()\n",
    "\n",
    "    def add_nodes(tree, parent=None):\n",
    "        for node_name, subtree in tree.items():\n",
    "            if isinstance(subtree, dict):\n",
    "                if parent is not None:\n",
    "                    dot.edge(str(parent), str(node_name))\n",
    "                add_nodes(subtree, parent=node_name)\n",
    "            else:\n",
    "                dot.edge(str(parent), str(node_name), label=str(subtree))\n",
    "\n",
    "    add_nodes(tree)\n",
    "    return dot\n",
    "\n",
    "visualize_tree(id3_tree)\n"
   ]
  }
 ],
 "metadata": {
  "kernelspec": {
   "display_name": "Python 3",
   "language": "python",
   "name": "python3"
  },
  "language_info": {
   "codemirror_mode": {
    "name": "ipython",
    "version": 3
   },
   "file_extension": ".py",
   "mimetype": "text/x-python",
   "name": "python",
   "nbconvert_exporter": "python",
   "pygments_lexer": "ipython3",
   "version": "3.11.2"
  },
  "orig_nbformat": 4
 },
 "nbformat": 4,
 "nbformat_minor": 2
}
