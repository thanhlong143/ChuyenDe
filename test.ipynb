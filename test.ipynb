{
 "cells": [
  {
   "cell_type": "code",
   "execution_count": 1,
   "metadata": {},
   "outputs": [],
   "source": [
    "# Nhập thư viện \n",
    "import pandas as pd\n",
    "import math\n",
    "import numpy as np\n",
    "import graphviz"
   ]
  },
  {
   "cell_type": "code",
   "execution_count": 2,
   "metadata": {},
   "outputs": [],
   "source": [
    "# Nhập dữ liệu \n",
    "\n",
    "dataset = pd.DataFrame({\n",
    "    'age': ['<=30', '<=30', '31-40', '>40', '>40', '>40', '31-40', '<=30', '<=30', '>40', '<=30', '31-40', '31-40', '>40'],\n",
    "    'income': ['high', 'high', 'high', 'medium', 'low', 'low', 'low', 'medium', 'low', 'medium', 'medium', 'medium', 'high', 'medium'],\n",
    "    'student': ['no', 'no', 'no', 'no', 'yes', 'yes', 'yes', 'no', 'yes', 'yes', 'yes', 'no', 'yes', 'no'],\n",
    "    'credit_rating': ['fair', 'excellent', 'fair', 'fair', 'fair', 'excellent', 'excellent', 'fair', 'fair', 'fair', 'excellent', 'excellent', 'fair', 'excellent'],\n",
    "    'buys_computer': ['no', 'no', 'yes', 'yes', 'yes', 'no', 'yes', 'no', 'yes', 'yes', 'yes', 'yes', 'yes', 'no']\n",
    "})"
   ]
  },
  {
   "cell_type": "code",
   "execution_count": 3,
   "metadata": {},
   "outputs": [
    {
     "name": "stdout",
     "output_type": "stream",
     "text": [
      "      age  income student credit_rating buys_computer\n",
      "0    <=30    high      no          fair            no\n",
      "1    <=30    high      no     excellent            no\n",
      "2   31-40    high      no          fair           yes\n",
      "3     >40  medium      no          fair           yes\n",
      "4     >40     low     yes          fair           yes\n",
      "5     >40     low     yes     excellent            no\n",
      "6   31-40     low     yes     excellent           yes\n",
      "7    <=30  medium      no          fair            no\n",
      "8    <=30     low     yes          fair           yes\n",
      "9     >40  medium     yes          fair           yes\n",
      "10   <=30  medium     yes     excellent           yes\n",
      "11  31-40  medium      no     excellent           yes\n",
      "12  31-40    high     yes          fair           yes\n",
      "13    >40  medium      no     excellent            no\n"
     ]
    }
   ],
   "source": [
    "print(dataset)"
   ]
  },
  {
   "cell_type": "code",
   "execution_count": 4,
   "metadata": {},
   "outputs": [
    {
     "data": {
      "text/html": [
       "<div>\n",
       "<style scoped>\n",
       "    .dataframe tbody tr th:only-of-type {\n",
       "        vertical-align: middle;\n",
       "    }\n",
       "\n",
       "    .dataframe tbody tr th {\n",
       "        vertical-align: top;\n",
       "    }\n",
       "\n",
       "    .dataframe thead th {\n",
       "        text-align: right;\n",
       "    }\n",
       "</style>\n",
       "<table border=\"1\" class=\"dataframe\">\n",
       "  <thead>\n",
       "    <tr style=\"text-align: right;\">\n",
       "      <th></th>\n",
       "      <th>age</th>\n",
       "      <th>income</th>\n",
       "      <th>student</th>\n",
       "      <th>credit_rating</th>\n",
       "      <th>buys_computer</th>\n",
       "    </tr>\n",
       "  </thead>\n",
       "  <tbody>\n",
       "    <tr>\n",
       "      <th>count</th>\n",
       "      <td>14</td>\n",
       "      <td>14</td>\n",
       "      <td>14</td>\n",
       "      <td>14</td>\n",
       "      <td>14</td>\n",
       "    </tr>\n",
       "    <tr>\n",
       "      <th>unique</th>\n",
       "      <td>3</td>\n",
       "      <td>3</td>\n",
       "      <td>2</td>\n",
       "      <td>2</td>\n",
       "      <td>2</td>\n",
       "    </tr>\n",
       "    <tr>\n",
       "      <th>top</th>\n",
       "      <td>&lt;=30</td>\n",
       "      <td>medium</td>\n",
       "      <td>no</td>\n",
       "      <td>fair</td>\n",
       "      <td>yes</td>\n",
       "    </tr>\n",
       "    <tr>\n",
       "      <th>freq</th>\n",
       "      <td>5</td>\n",
       "      <td>6</td>\n",
       "      <td>7</td>\n",
       "      <td>8</td>\n",
       "      <td>9</td>\n",
       "    </tr>\n",
       "  </tbody>\n",
       "</table>\n",
       "</div>"
      ],
      "text/plain": [
       "         age  income student credit_rating buys_computer\n",
       "count     14      14      14            14            14\n",
       "unique     3       3       2             2             2\n",
       "top     <=30  medium      no          fair           yes\n",
       "freq       5       6       7             8             9"
      ]
     },
     "execution_count": 4,
     "metadata": {},
     "output_type": "execute_result"
    }
   ],
   "source": [
    "dataset.describe()"
   ]
  },
  {
   "cell_type": "code",
   "execution_count": 5,
   "metadata": {},
   "outputs": [
    {
     "name": "stdout",
     "output_type": "stream",
     "text": [
      "Gini index(age) = 0.34285714285714286\n",
      "Gini index(income) = 0.44047619047619047\n",
      "Gini index(student) = 0.3673469387755103\n",
      "Gini index(credit_rating) = 0.42857142857142855\n"
     ]
    }
   ],
   "source": [
    "def gini(probs):\n",
    "    impurity = 1\n",
    "    for prob in probs:\n",
    "        impurity -= prob ** 2\n",
    "    return impurity\n",
    "\n",
    "def gini_index(data, split_attribute_name, target_name):\n",
    "    total_gini = gini(data[target_name].value_counts(normalize=True))\n",
    "    weighted_gini = 0\n",
    "    for subset_name, subset in data.groupby(split_attribute_name):\n",
    "        subset_gini = gini(subset[target_name].value_counts(normalize=True))\n",
    "        weighted_gini += (len(subset) / len(data)) * subset_gini\n",
    "    gini_index = weighted_gini\n",
    "    return gini_index\n",
    "\n",
    "gini_age = gini_index(dataset, 'age', 'buys_computer')\n",
    "gini_income = gini_index(dataset, 'income', 'buys_computer')\n",
    "gini_student = gini_index(dataset, 'student', 'buys_computer')\n",
    "gini_credit_rating = gini_index(dataset, 'credit_rating', 'buys_computer')\n",
    "\n",
    "print('Gini index(age) =', gini_age)\n",
    "print('Gini index(income) =', gini_income)\n",
    "print('Gini index(student) =', gini_student)\n",
    "print('Gini index(credit_rating) =', gini_credit_rating)"
   ]
  },
  {
   "attachments": {},
   "cell_type": "markdown",
   "metadata": {},
   "source": [
    "<img src=\"gain.png\" width=\"400\"/>"
   ]
  },
  {
   "cell_type": "code",
   "execution_count": 6,
   "metadata": {},
   "outputs": [],
   "source": [
    "# entropy:\n",
    "def entropy(probs):\n",
    "    entropy = 0\n",
    "    for prob in probs:\n",
    "        if prob != 0:\n",
    "            entropy += prob * math.log2(prob)\n",
    "    return -entropy"
   ]
  },
  {
   "cell_type": "code",
   "execution_count": 7,
   "metadata": {},
   "outputs": [],
   "source": [
    "# information gained\n",
    "def information_gain(data, split_attribute_name, target_name):\n",
    "    total_entropy = entropy(data[target_name].value_counts(normalize=True))\n",
    "    weighted_entropy = 0\n",
    "    for subset_name, subset in data.groupby(split_attribute_name):\n",
    "        subset_entropy = entropy(subset[target_name].value_counts(normalize=True))\n",
    "        \n",
    "        # information needed:\n",
    "        weighted_entropy += (len(subset) / len(data)) * subset_entropy\n",
    "    \n",
    "    information_gain = total_entropy - weighted_entropy\n",
    "    return information_gain"
   ]
  },
  {
   "cell_type": "code",
   "execution_count": 8,
   "metadata": {},
   "outputs": [
    {
     "name": "stdout",
     "output_type": "stream",
     "text": [
      "Gain(age) = 0.24674981977443933\n",
      "Gain(income) = 0.02922256565895487\n",
      "Gain(student) = 0.15183550136234159\n",
      "Gain(credit_rating) = 0.04812703040826949\n"
     ]
    }
   ],
   "source": [
    "# gọi hàm và in \n",
    "iga = information_gain(dataset, 'age', 'buys_computer')\n",
    "igi = information_gain(dataset, 'income', 'buys_computer')\n",
    "igs = information_gain(dataset, 'student', 'buys_computer')\n",
    "igc = information_gain(dataset, 'credit_rating', 'buys_computer')\n",
    "print('Gain(age) =', iga)\n",
    "print('Gain(income) =', igi)\n",
    "print('Gain(student) =', igs)\n",
    "print('Gain(credit_rating) =', igc)"
   ]
  },
  {
   "attachments": {},
   "cell_type": "markdown",
   "metadata": {},
   "source": [
    "# Phân chia dữ liệu\n",
    "\n",
    "<img src=\"split_infor.png\" width=\"400\"/>"
   ]
  },
  {
   "cell_type": "code",
   "execution_count": 9,
   "metadata": {},
   "outputs": [],
   "source": [
    "def split_information(data, split_attribute_name):\n",
    "    num_entries = len(data)\n",
    "    value_counts = data[split_attribute_name].value_counts()\n",
    "    probs = value_counts / num_entries\n",
    "    split_infor = -(probs * np.log2(probs)).sum()\n",
    "    return split_infor"
   ]
  },
  {
   "attachments": {},
   "cell_type": "markdown",
   "metadata": {},
   "source": [
    "<img src=\"gain_ratio.png\" width=\"400\"/>"
   ]
  },
  {
   "cell_type": "code",
   "execution_count": 10,
   "metadata": {},
   "outputs": [],
   "source": [
    "# Gain ratio\n",
    "def gain_ratio(dataset, split_attribute_name, target_name):\n",
    "    split_info = split_information(dataset, split_attribute_name)\n",
    "    gain = information_gain(dataset, split_attribute_name, target_name)\n",
    "    if split_info == 0:\n",
    "        return 0\n",
    "    \n",
    "    return gain / split_info"
   ]
  },
  {
   "cell_type": "code",
   "execution_count": 11,
   "metadata": {},
   "outputs": [
    {
     "name": "stdout",
     "output_type": "stream",
     "text": [
      "gain_ratio(age) = 0.15642756242117528\n",
      "gain_ratio(income) = 0.018772646222418813\n",
      "gain_ratio(student) = 0.15183550136234159\n",
      "gain_ratio(credit_rating) = 0.048848615511520824\n"
     ]
    }
   ],
   "source": [
    "gain_ratio_age = gain_ratio(dataset, 'age', 'buys_computer')\n",
    "gain_ratio_income = gain_ratio(dataset, 'income', 'buys_computer')\n",
    "gain_ratio_student = gain_ratio(dataset, 'student', 'buys_computer')\n",
    "gain_ratio_credit_rating = gain_ratio(dataset, 'credit_rating', 'buys_computer')\n",
    "print('gain_ratio(age) =', gain_ratio_age)\n",
    "print('gain_ratio(income) =', gain_ratio_income)\n",
    "print('gain_ratio(student) =', gain_ratio_student)\n",
    "print('gain_ratio(credit_rating) =', gain_ratio_credit_rating)"
   ]
  },
  {
   "cell_type": "code",
   "execution_count": 12,
   "metadata": {},
   "outputs": [],
   "source": [
    "# Tạo cấu trúc cây quyết định theo thuật toán ID3 \n",
    "def id3(data, original_data, features, target_attribute_name, parent_node_class=None):\n",
    "\n",
    "    # Nếu tất cả các giá trị đều giống nhau, thì trả về một giá trị\n",
    "    if len(np.unique(data[target_attribute_name])) <= 1:\n",
    "        return np.unique(data[target_attribute_name])[0]\n",
    "\n",
    "    # Nếu tệp dữ liễu trống, thì trả về chế độ mặc định của tập dữ liệu gốc\n",
    "    elif len(data) == 0:\n",
    "        return np.unique(original_data[target_attribute_name])[np.argmax(original_data[target_attribute_name].value_counts())]\n",
    "    \n",
    "    #\n",
    "    elif len(features) == 0:\n",
    "        return parent_node_class\n",
    "\n",
    "    else:\n",
    "        # đặt giá trị mặc định cho node của tập con hợp con hiện tại\n",
    "        parent_node_class = np.unique(data[target_attribute_name])[np.argmax(data[target_attribute_name].value_counts())]\n",
    "\n",
    "        # Chọn đặc trưng phân chia dữ liệu tốt nhất \n",
    "        item_values = [information_gain(data, feature, target_attribute_name) for feature in features] # Return the information gain values for the features in the dataset\n",
    "        best_feature_index = np.argmax(item_values)\n",
    "        best_feature = features[best_feature_index]\n",
    "\n",
    "        # Tạo cấu trúc cây, gốc cây là tên của đặc trưng \n",
    "        tree = {best_feature: {}}\n",
    "\n",
    "        # Xóa những đặc trưng đã được thêm vào \n",
    "        features = [i for i in features if i != best_feature]\n",
    "\n",
    "        # Thêm nhánh cho đặc trưng gốc \n",
    "        for value in np.unique(data[best_feature]):\n",
    "            value = value\n",
    "\n",
    "            # Phân chia tập dữ liệu theo đối tượng có thông tin lớn nhất và tạo tập dữ liệu con\n",
    "            sub_data = data.where(data[best_feature] == value).dropna()\n",
    "\n",
    "            # gọi thuật toán ID3 cho mội tập dữ liệu con \n",
    "            subtree = id3(sub_data, dataset, features, target_attribute_name, parent_node_class)\n",
    "\n",
    "            # thêm nhánh phụ, phát triển các nhánh phụ \n",
    "            tree[best_feature][value] = subtree\n",
    "\n",
    "        return tree\n"
   ]
  },
  {
   "cell_type": "code",
   "execution_count": 13,
   "metadata": {},
   "outputs": [],
   "source": [
    "target_attribute_name = 'buys_computer'\n",
    "features = dataset.columns.tolist()[:-1]\n",
    "id3_tree = id3(dataset, dataset, features, target_attribute_name)"
   ]
  },
  {
   "cell_type": "code",
   "execution_count": 14,
   "metadata": {},
   "outputs": [
    {
     "data": {
      "image/svg+xml": "<?xml version=\"1.0\" encoding=\"UTF-8\" standalone=\"no\"?>\n<!DOCTYPE svg PUBLIC \"-//W3C//DTD SVG 1.1//EN\"\n \"http://www.w3.org/Graphics/SVG/1.1/DTD/svg11.dtd\">\n<!-- Generated by graphviz version 7.1.0 (20230121.1956)\n -->\n<!-- Pages: 1 -->\n<svg width=\"314pt\" height=\"291pt\"\n viewBox=\"0.00 0.00 314.00 291.00\" xmlns=\"http://www.w3.org/2000/svg\" xmlns:xlink=\"http://www.w3.org/1999/xlink\">\n<g id=\"graph0\" class=\"graph\" transform=\"scale(1 1) rotate(0) translate(4 287)\">\n<polygon fill=\"white\" stroke=\"none\" points=\"-4,4 -4,-287 310,-287 310,4 -4,4\"/>\n<!-- age -->\n<g id=\"node1\" class=\"node\">\n<title>age</title>\n<ellipse fill=\"none\" stroke=\"black\" cx=\"114\" cy=\"-265\" rx=\"27\" ry=\"18\"/>\n<text text-anchor=\"middle\" x=\"114\" y=\"-261.3\" font-family=\"Times New Roman,serif\" font-size=\"14.00\">age</text>\n</g>\n<!-- 31&#45;40 -->\n<g id=\"node2\" class=\"node\">\n<title>31&#45;40</title>\n<ellipse fill=\"none\" stroke=\"black\" cx=\"34\" cy=\"-178\" rx=\"31.4\" ry=\"18\"/>\n<text text-anchor=\"middle\" x=\"34\" y=\"-174.3\" font-family=\"Times New Roman,serif\" font-size=\"14.00\">31&#45;40</text>\n</g>\n<!-- age&#45;&gt;31&#45;40 -->\n<g id=\"edge1\" class=\"edge\">\n<title>age&#45;&gt;31&#45;40</title>\n<path fill=\"none\" stroke=\"black\" d=\"M100.07,-249.19C87.94,-236.31 70.16,-217.42 56.09,-202.47\"/>\n<polygon fill=\"black\" stroke=\"black\" points=\"58.75,-200.19 49.35,-195.31 53.66,-204.99 58.75,-200.19\"/>\n<text text-anchor=\"middle\" x=\"88.5\" y=\"-217.8\" font-family=\"Times New Roman,serif\" font-size=\"14.00\">yes</text>\n</g>\n<!-- &lt;=30 -->\n<g id=\"node3\" class=\"node\">\n<title>&lt;=30</title>\n<ellipse fill=\"none\" stroke=\"black\" cx=\"114\" cy=\"-178\" rx=\"30.59\" ry=\"18\"/>\n<text text-anchor=\"middle\" x=\"114\" y=\"-174.3\" font-family=\"Times New Roman,serif\" font-size=\"14.00\">&lt;=30</text>\n</g>\n<!-- age&#45;&gt;&lt;=30 -->\n<g id=\"edge2\" class=\"edge\">\n<title>age&#45;&gt;&lt;=30</title>\n<path fill=\"none\" stroke=\"black\" d=\"M114,-246.8C114,-235.58 114,-220.67 114,-207.69\"/>\n<polygon fill=\"black\" stroke=\"black\" points=\"117.5,-207.98 114,-197.98 110.5,-207.98 117.5,-207.98\"/>\n</g>\n<!-- &gt;40 -->\n<g id=\"node7\" class=\"node\">\n<title>&gt;40</title>\n<ellipse fill=\"none\" stroke=\"black\" cx=\"199\" cy=\"-178\" rx=\"27\" ry=\"18\"/>\n<text text-anchor=\"middle\" x=\"199\" y=\"-174.3\" font-family=\"Times New Roman,serif\" font-size=\"14.00\">&gt;40</text>\n</g>\n<!-- age&#45;&gt;&gt;40 -->\n<g id=\"edge6\" class=\"edge\">\n<title>age&#45;&gt;&gt;40</title>\n<path fill=\"none\" stroke=\"black\" d=\"M128.42,-249.58C141.61,-236.39 161.33,-216.67 176.57,-201.43\"/>\n<polygon fill=\"black\" stroke=\"black\" points=\"178.84,-204.11 183.44,-194.56 173.89,-199.16 178.84,-204.11\"/>\n</g>\n<!-- student -->\n<g id=\"node4\" class=\"node\">\n<title>student</title>\n<ellipse fill=\"none\" stroke=\"black\" cx=\"93\" cy=\"-105\" rx=\"37.09\" ry=\"18\"/>\n<text text-anchor=\"middle\" x=\"93\" y=\"-101.3\" font-family=\"Times New Roman,serif\" font-size=\"14.00\">student</text>\n</g>\n<!-- &lt;=30&#45;&gt;student -->\n<g id=\"edge3\" class=\"edge\">\n<title>&lt;=30&#45;&gt;student</title>\n<path fill=\"none\" stroke=\"black\" d=\"M108.92,-159.81C106.62,-152.05 103.85,-142.68 101.27,-133.95\"/>\n<polygon fill=\"black\" stroke=\"black\" points=\"104.66,-133.08 98.47,-124.48 97.95,-135.06 104.66,-133.08\"/>\n</g>\n<!-- no -->\n<g id=\"node5\" class=\"node\">\n<title>no</title>\n<ellipse fill=\"none\" stroke=\"black\" cx=\"27\" cy=\"-18\" rx=\"27\" ry=\"18\"/>\n<text text-anchor=\"middle\" x=\"27\" y=\"-14.3\" font-family=\"Times New Roman,serif\" font-size=\"14.00\">no</text>\n</g>\n<!-- student&#45;&gt;no -->\n<g id=\"edge4\" class=\"edge\">\n<title>student&#45;&gt;no</title>\n<path fill=\"none\" stroke=\"black\" d=\"M80.27,-87.61C70.5,-75.03 56.86,-57.46 45.83,-43.25\"/>\n<polygon fill=\"black\" stroke=\"black\" points=\"48.84,-41.43 39.95,-35.67 43.32,-45.72 48.84,-41.43\"/>\n<text text-anchor=\"middle\" x=\"71.5\" y=\"-57.8\" font-family=\"Times New Roman,serif\" font-size=\"14.00\">no</text>\n</g>\n<!-- yes -->\n<g id=\"node6\" class=\"node\">\n<title>yes</title>\n<ellipse fill=\"none\" stroke=\"black\" cx=\"99\" cy=\"-18\" rx=\"27\" ry=\"18\"/>\n<text text-anchor=\"middle\" x=\"99\" y=\"-14.3\" font-family=\"Times New Roman,serif\" font-size=\"14.00\">yes</text>\n</g>\n<!-- student&#45;&gt;yes -->\n<g id=\"edge5\" class=\"edge\">\n<title>student&#45;&gt;yes</title>\n<path fill=\"none\" stroke=\"black\" d=\"M94.21,-86.8C95.01,-75.58 96.06,-60.67 96.98,-47.69\"/>\n<polygon fill=\"black\" stroke=\"black\" points=\"100.45,-48.2 97.66,-37.98 93.46,-47.71 100.45,-48.2\"/>\n<text text-anchor=\"middle\" x=\"106.5\" y=\"-57.8\" font-family=\"Times New Roman,serif\" font-size=\"14.00\">yes</text>\n</g>\n<!-- credit_rating -->\n<g id=\"node8\" class=\"node\">\n<title>credit_rating</title>\n<ellipse fill=\"none\" stroke=\"black\" cx=\"204\" cy=\"-105\" rx=\"55.79\" ry=\"18\"/>\n<text text-anchor=\"middle\" x=\"204\" y=\"-101.3\" font-family=\"Times New Roman,serif\" font-size=\"14.00\">credit_rating</text>\n</g>\n<!-- &gt;40&#45;&gt;credit_rating -->\n<g id=\"edge7\" class=\"edge\">\n<title>&gt;40&#45;&gt;credit_rating</title>\n<path fill=\"none\" stroke=\"black\" d=\"M200.21,-159.81C200.75,-152.14 201.4,-142.89 202.01,-134.24\"/>\n<polygon fill=\"black\" stroke=\"black\" points=\"205.48,-134.76 202.69,-124.54 198.5,-134.27 205.48,-134.76\"/>\n</g>\n<!-- excellent -->\n<g id=\"node9\" class=\"node\">\n<title>excellent</title>\n<ellipse fill=\"none\" stroke=\"black\" cx=\"192\" cy=\"-18\" rx=\"42.49\" ry=\"18\"/>\n<text text-anchor=\"middle\" x=\"192\" y=\"-14.3\" font-family=\"Times New Roman,serif\" font-size=\"14.00\">excellent</text>\n</g>\n<!-- credit_rating&#45;&gt;excellent -->\n<g id=\"edge8\" class=\"edge\">\n<title>credit_rating&#45;&gt;excellent</title>\n<path fill=\"none\" stroke=\"black\" d=\"M201.57,-86.8C199.99,-75.58 197.88,-60.67 196.05,-47.69\"/>\n<polygon fill=\"black\" stroke=\"black\" points=\"199.54,-47.38 194.68,-37.97 192.61,-48.36 199.54,-47.38\"/>\n<text text-anchor=\"middle\" x=\"206.5\" y=\"-57.8\" font-family=\"Times New Roman,serif\" font-size=\"14.00\">no</text>\n</g>\n<!-- fair -->\n<g id=\"node10\" class=\"node\">\n<title>fair</title>\n<ellipse fill=\"none\" stroke=\"black\" cx=\"279\" cy=\"-18\" rx=\"27\" ry=\"18\"/>\n<text text-anchor=\"middle\" x=\"279\" y=\"-14.3\" font-family=\"Times New Roman,serif\" font-size=\"14.00\">fair</text>\n</g>\n<!-- credit_rating&#45;&gt;fair -->\n<g id=\"edge9\" class=\"edge\">\n<title>credit_rating&#45;&gt;fair</title>\n<path fill=\"none\" stroke=\"black\" d=\"M218.82,-87.21C230.13,-74.39 245.85,-56.56 258.39,-42.35\"/>\n<polygon fill=\"black\" stroke=\"black\" points=\"260.73,-45 264.72,-35.18 255.48,-40.37 260.73,-45\"/>\n<text text-anchor=\"middle\" x=\"254.5\" y=\"-57.8\" font-family=\"Times New Roman,serif\" font-size=\"14.00\">yes</text>\n</g>\n</g>\n</svg>\n",
      "text/plain": [
       "<graphviz.graphs.Digraph at 0x179b1c72b90>"
      ]
     },
     "execution_count": 14,
     "metadata": {},
     "output_type": "execute_result"
    }
   ],
   "source": [
    "#Vẽ cây\n",
    "\n",
    "def visualize_tree(tree):\n",
    "    dot = graphviz.Digraph()\n",
    "\n",
    "    def add_nodes(tree, parent=None):\n",
    "        for node_name, subtree in tree.items():\n",
    "            if isinstance(subtree, dict):\n",
    "                if parent is not None:\n",
    "                    dot.edge(str(parent), str(node_name))\n",
    "                add_nodes(subtree, parent=node_name)\n",
    "            else:\n",
    "                dot.edge(str(parent), str(node_name), label=str(subtree))\n",
    "\n",
    "    add_nodes(tree)\n",
    "    return dot\n",
    "\n",
    "visualize_tree(id3_tree)\n"
   ]
  }
 ],
 "metadata": {
  "kernelspec": {
   "display_name": "Python 3",
   "language": "python",
   "name": "python3"
  },
  "language_info": {
   "codemirror_mode": {
    "name": "ipython",
    "version": 3
   },
   "file_extension": ".py",
   "mimetype": "text/x-python",
   "name": "python",
   "nbconvert_exporter": "python",
   "pygments_lexer": "ipython3",
   "version": "3.11.2"
  },
  "orig_nbformat": 4
 },
 "nbformat": 4,
 "nbformat_minor": 2
}
