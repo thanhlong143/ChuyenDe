{
 "cells": [
  {
   "cell_type": "code",
   "execution_count": 1,
   "metadata": {},
   "outputs": [],
   "source": [
    "# Nhập thư viện \n",
    "import pandas as pd\n",
    "import math\n",
    "import numpy as np\n",
    "import graphviz\n",
    "import matplotlib.pyplot as plt"
   ]
  },
  {
   "cell_type": "code",
   "execution_count": 2,
   "metadata": {},
   "outputs": [],
   "source": [
    "dataset = pd.read_csv('./data.csv')"
   ]
  },
  {
   "cell_type": "code",
   "execution_count": 3,
   "metadata": {},
   "outputs": [
    {
     "name": "stdout",
     "output_type": "stream",
     "text": [
      "   department    age   salary  count  status\n",
      "0       sales  31-35  46K-50K     30  senior\n",
      "1       sales  26-30  26K-30K     40  junior\n",
      "2       sales  31-35  31K-35K     40  junior\n",
      "3     systems  21-25  46K-50K     20  junior\n",
      "4     systems  31-35  66K-70K      5  senior\n",
      "5     systems  26-30  46K-50K      3  junior\n",
      "6     systems  41-45  66K-70K      3  senior\n",
      "7   marketing  36-40  46K-50K     10  senior\n",
      "8   marketing  31-35  41K-45K      4  junior\n",
      "9   secretary  46-50  36K-40K      4  senior\n",
      "10  secretary  26-30  26K-30K      6  junior\n"
     ]
    }
   ],
   "source": [
    "print(dataset)"
   ]
  },
  {
   "cell_type": "code",
   "execution_count": 4,
   "metadata": {},
   "outputs": [
    {
     "data": {
      "text/html": [
       "<div>\n",
       "<style scoped>\n",
       "    .dataframe tbody tr th:only-of-type {\n",
       "        vertical-align: middle;\n",
       "    }\n",
       "\n",
       "    .dataframe tbody tr th {\n",
       "        vertical-align: top;\n",
       "    }\n",
       "\n",
       "    .dataframe thead th {\n",
       "        text-align: right;\n",
       "    }\n",
       "</style>\n",
       "<table border=\"1\" class=\"dataframe\">\n",
       "  <thead>\n",
       "    <tr style=\"text-align: right;\">\n",
       "      <th></th>\n",
       "      <th>count</th>\n",
       "    </tr>\n",
       "  </thead>\n",
       "  <tbody>\n",
       "    <tr>\n",
       "      <th>count</th>\n",
       "      <td>11.000000</td>\n",
       "    </tr>\n",
       "    <tr>\n",
       "      <th>mean</th>\n",
       "      <td>15.000000</td>\n",
       "    </tr>\n",
       "    <tr>\n",
       "      <th>std</th>\n",
       "      <td>14.953261</td>\n",
       "    </tr>\n",
       "    <tr>\n",
       "      <th>min</th>\n",
       "      <td>3.000000</td>\n",
       "    </tr>\n",
       "    <tr>\n",
       "      <th>25%</th>\n",
       "      <td>4.000000</td>\n",
       "    </tr>\n",
       "    <tr>\n",
       "      <th>50%</th>\n",
       "      <td>6.000000</td>\n",
       "    </tr>\n",
       "    <tr>\n",
       "      <th>75%</th>\n",
       "      <td>25.000000</td>\n",
       "    </tr>\n",
       "    <tr>\n",
       "      <th>max</th>\n",
       "      <td>40.000000</td>\n",
       "    </tr>\n",
       "  </tbody>\n",
       "</table>\n",
       "</div>"
      ],
      "text/plain": [
       "           count\n",
       "count  11.000000\n",
       "mean   15.000000\n",
       "std    14.953261\n",
       "min     3.000000\n",
       "25%     4.000000\n",
       "50%     6.000000\n",
       "75%    25.000000\n",
       "max    40.000000"
      ]
     },
     "execution_count": 4,
     "metadata": {},
     "output_type": "execute_result"
    }
   ],
   "source": [
    "dataset.describe()"
   ]
  },
  {
   "cell_type": "code",
   "execution_count": 5,
   "metadata": {},
   "outputs": [
    {
     "name": "stdout",
     "output_type": "stream",
     "text": [
      "Gini index(department) = 0.18181818181818182\n",
      "Gini index(age) = 0.18181818181818182\n",
      "Gini index(salary) = 0.18181818181818182\n",
      "Gini index(count) = 0.18181818181818182\n"
     ]
    }
   ],
   "source": [
    "def gini(probs):\n",
    "    impurity = 1\n",
    "    for prob in probs:\n",
    "        impurity -= prob ** 2\n",
    "    return impurity\n",
    "\n",
    "def gini_index(data, split_attribute_name, target_name):\n",
    "    total_gini = gini(data[target_name].value_counts(normalize=True))\n",
    "    weighted_gini = 0\n",
    "    for subset_name, subset in data.groupby(split_attribute_name):\n",
    "        subset_gini = gini(subset[target_name].value_counts(normalize=True))\n",
    "        weighted_gini += (len(subset) / len(data)) * subset_gini\n",
    "    gini_index = weighted_gini\n",
    "    return gini_index\n",
    "\n",
    "gini_age = gini_index(dataset, 'department', 'status')\n",
    "gini_age = gini_index(dataset, 'age', 'status')\n",
    "gini_salary = gini_index(dataset, 'salary', 'status')\n",
    "gini_count = gini_index(dataset, 'count', 'status')\n",
    "\n",
    "print('Gini index(department) =', gini_age)\n",
    "print('Gini index(age) =', gini_age)\n",
    "print('Gini index(salary) =', gini_salary)\n",
    "print('Gini index(count) =', gini_count)"
   ]
  },
  {
   "attachments": {},
   "cell_type": "markdown",
   "metadata": {},
   "source": [
    "<img src=\"./img/gain.png\" width=\"400\"/>"
   ]
  },
  {
   "cell_type": "code",
   "execution_count": 6,
   "metadata": {},
   "outputs": [],
   "source": [
    "# entropy:\n",
    "def entropy(probs):\n",
    "    entropy = 0\n",
    "    for prob in probs:\n",
    "        if prob != 0:\n",
    "            entropy += prob * math.log2(prob)\n",
    "    return -entropy"
   ]
  },
  {
   "cell_type": "code",
   "execution_count": 7,
   "metadata": {},
   "outputs": [],
   "source": [
    "# information gained\n",
    "def information_gain(data, split_attribute_name, target_name):\n",
    "    total_entropy = entropy(data[target_name].value_counts(normalize=True))\n",
    "    weighted_entropy = 0\n",
    "    for subset_name, subset in data.groupby(split_attribute_name):\n",
    "        subset_entropy = entropy(subset[target_name].value_counts(normalize=True))\n",
    "        \n",
    "        # information needed:\n",
    "        weighted_entropy += (len(subset) / len(data)) * subset_entropy\n",
    "    \n",
    "    information_gain = total_entropy - weighted_entropy\n",
    "    return information_gain"
   ]
  },
  {
   "cell_type": "code",
   "execution_count": 8,
   "metadata": {},
   "outputs": [
    {
     "name": "stdout",
     "output_type": "stream",
     "text": [
      "Gain(department) = 0.016313165825732057\n",
      "Gain(age) = 0.6303938478405928\n",
      "Gain(salary) = 0.6303938478405928\n",
      "Gain(count) = 0.6303938478405928\n"
     ]
    }
   ],
   "source": [
    "# gọi hàm và in \n",
    "iga = information_gain(dataset, 'department', 'status')\n",
    "igi = information_gain(dataset, 'age', 'status')\n",
    "igs = information_gain(dataset, 'salary', 'status')\n",
    "igc = information_gain(dataset, 'count', 'status')\n",
    "print('Gain(department) =', iga)\n",
    "print('Gain(age) =', igi)\n",
    "print('Gain(salary) =', igs)\n",
    "print('Gain(count) =', igc)"
   ]
  },
  {
   "attachments": {},
   "cell_type": "markdown",
   "metadata": {},
   "source": [
    "# Phân chia dữ liệu\n",
    "\n",
    "<img src=\"./img/split_infor.png\" width=\"400\"/>"
   ]
  },
  {
   "cell_type": "code",
   "execution_count": 9,
   "metadata": {},
   "outputs": [],
   "source": [
    "def split_information(data, split_attribute_name):\n",
    "    num_entries = len(data)\n",
    "    value_counts = data[split_attribute_name].value_counts()\n",
    "    probs = value_counts / num_entries\n",
    "    split_infor = -(probs * np.log2(probs)).sum()\n",
    "    return split_infor"
   ]
  },
  {
   "attachments": {},
   "cell_type": "markdown",
   "metadata": {},
   "source": [
    "<img src=\"./img/gain_ratio.png\" width=\"400\"/>"
   ]
  },
  {
   "cell_type": "code",
   "execution_count": 10,
   "metadata": {},
   "outputs": [],
   "source": [
    "# Gain ratio\n",
    "def gain_ratio(dataset, split_attribute_name, target_name):\n",
    "    split_info = split_information(dataset, split_attribute_name)\n",
    "    gain = information_gain(dataset, split_attribute_name, target_name)\n",
    "    if split_info == 0:\n",
    "        return 0\n",
    "    \n",
    "    return gain / split_info"
   ]
  },
  {
   "cell_type": "code",
   "execution_count": 11,
   "metadata": {},
   "outputs": [
    {
     "name": "stdout",
     "output_type": "stream",
     "text": [
      "gain_ratio(department) = 0.27409662898791615\n",
      "gain_ratio(age) = 0.27409662898791615\n",
      "gain_ratio(salary) = 0.26615488789344205\n",
      "gain_ratio(count) = 0.21633452563580183\n"
     ]
    }
   ],
   "source": [
    "gain_ratio_age = gain_ratio(dataset, 'department', 'status')\n",
    "gain_ratio_age = gain_ratio(dataset, 'age', 'status')\n",
    "gain_ratio_salary = gain_ratio(dataset, 'salary', 'status')\n",
    "gain_ratio_count = gain_ratio(dataset, 'count', 'status')\n",
    "print('gain_ratio(department) =', gain_ratio_age)\n",
    "print('gain_ratio(age) =', gain_ratio_age)\n",
    "print('gain_ratio(salary) =', gain_ratio_salary)\n",
    "print('gain_ratio(count) =', gain_ratio_count)"
   ]
  },
  {
   "cell_type": "code",
   "execution_count": 12,
   "metadata": {},
   "outputs": [],
   "source": [
    "# Tạo cấu trúc cây quyết định theo thuật toán ID3 \n",
    "def id3(data, original_data, features, target_attribute_name, parent_node_class=None):\n",
    "\n",
    "    # Nếu tất cả các giá trị đều giống nhau, thì trả về một giá trị\n",
    "    if len(np.unique(data[target_attribute_name])) <= 1:\n",
    "        return np.unique(data[target_attribute_name])[0]\n",
    "\n",
    "    # Nếu tệp dữ liễu trống, thì trả về chế độ mặc định của tập dữ liệu gốc\n",
    "    elif len(data) == 0:\n",
    "        return np.unique(original_data[target_attribute_name])[np.argmax(original_data[target_attribute_name].value_counts())]\n",
    "    \n",
    "    #\n",
    "    elif len(features) == 0:\n",
    "        return parent_node_class\n",
    "\n",
    "    else:\n",
    "        # đặt giá trị mặc định cho node của tập con hợp con hiện tại\n",
    "        parent_node_class = np.unique(data[target_attribute_name])[np.argmax(data[target_attribute_name].value_counts())]\n",
    "\n",
    "        # Chọn đặc trưng phân chia dữ liệu tốt nhất \n",
    "        item_values = [information_gain(data, feature, target_attribute_name) for feature in features] # Return the information gain values for the features in the dataset\n",
    "        best_feature_index = np.argmax(item_values)\n",
    "        best_feature = features[best_feature_index]\n",
    "\n",
    "        # Tạo cấu trúc cây, gốc cây là tên của đặc trưng \n",
    "        tree = {best_feature: {}}\n",
    "\n",
    "        # Xóa những đặc trưng đã được thêm vào \n",
    "        features = [i for i in features if i != best_feature]\n",
    "\n",
    "        # Thêm nhánh cho đặc trưng gốc \n",
    "        for value in np.unique(data[best_feature]):\n",
    "            value = value\n",
    "\n",
    "            # Phân chia tập dữ liệu theo đối tượng có thông tin lớn nhất và tạo tập dữ liệu con\n",
    "            sub_data = data.where(data[best_feature] == value).dropna()\n",
    "\n",
    "            # gọi thuật toán ID3 cho mội tập dữ liệu con \n",
    "            subtree = id3(sub_data, dataset, features, target_attribute_name, parent_node_class)\n",
    "\n",
    "            # thêm nhánh phụ, phát triển các nhánh phụ \n",
    "            tree[best_feature][value] = subtree\n",
    "\n",
    "        return tree\n"
   ]
  },
  {
   "cell_type": "code",
   "execution_count": 13,
   "metadata": {},
   "outputs": [],
   "source": [
    "target_attribute_name = 'status'\n",
    "features = dataset.columns.tolist()[:-1]\n",
    "id3_tree = id3(dataset, dataset, features, target_attribute_name)"
   ]
  },
  {
   "cell_type": "code",
   "execution_count": 14,
   "metadata": {},
   "outputs": [
    {
     "data": {
      "image/svg+xml": "<?xml version=\"1.0\" encoding=\"UTF-8\" standalone=\"no\"?>\n<!DOCTYPE svg PUBLIC \"-//W3C//DTD SVG 1.1//EN\"\n \"http://www.w3.org/Graphics/SVG/1.1/DTD/svg11.dtd\">\n<!-- Generated by graphviz version 7.1.0 (20230121.1956)\n -->\n<!-- Pages: 1 -->\n<svg width=\"482pt\" height=\"291pt\"\n viewBox=\"0.00 0.00 482.39 291.00\" xmlns=\"http://www.w3.org/2000/svg\" xmlns:xlink=\"http://www.w3.org/1999/xlink\">\n<g id=\"graph0\" class=\"graph\" transform=\"scale(1 1) rotate(0) translate(4 287)\">\n<polygon fill=\"white\" stroke=\"none\" points=\"-4,4 -4,-287 478.39,-287 478.39,4 -4,4\"/>\n<!-- age -->\n<g id=\"node1\" class=\"node\">\n<title>age</title>\n<ellipse fill=\"none\" stroke=\"black\" cx=\"263.2\" cy=\"-265\" rx=\"27\" ry=\"18\"/>\n<text text-anchor=\"middle\" x=\"263.2\" y=\"-261.3\" font-family=\"Times New Roman,serif\" font-size=\"14.00\">age</text>\n</g>\n<!-- 21&#45;25 -->\n<g id=\"node2\" class=\"node\">\n<title>21&#45;25</title>\n<ellipse fill=\"none\" stroke=\"black\" cx=\"43.2\" cy=\"-178\" rx=\"31.4\" ry=\"18\"/>\n<text text-anchor=\"middle\" x=\"43.2\" y=\"-174.3\" font-family=\"Times New Roman,serif\" font-size=\"14.00\">21&#45;25</text>\n</g>\n<!-- age&#45;&gt;21&#45;25 -->\n<g id=\"edge1\" class=\"edge\">\n<title>age&#45;&gt;21&#45;25</title>\n<path fill=\"none\" stroke=\"black\" d=\"M237.83,-258.78C211.8,-253.01 170.38,-242.7 136.2,-229 114.57,-220.34 91.51,-207.96 73.75,-197.68\"/>\n<polygon fill=\"black\" stroke=\"black\" points=\"75.66,-194.74 65.27,-192.69 72.11,-200.78 75.66,-194.74\"/>\n<text text-anchor=\"middle\" x=\"152.2\" y=\"-217.8\" font-family=\"Times New Roman,serif\" font-size=\"14.00\">junior</text>\n</g>\n<!-- 26&#45;30 -->\n<g id=\"node3\" class=\"node\">\n<title>26&#45;30</title>\n<ellipse fill=\"none\" stroke=\"black\" cx=\"123.2\" cy=\"-178\" rx=\"31.4\" ry=\"18\"/>\n<text text-anchor=\"middle\" x=\"123.2\" y=\"-174.3\" font-family=\"Times New Roman,serif\" font-size=\"14.00\">26&#45;30</text>\n</g>\n<!-- age&#45;&gt;26&#45;30 -->\n<g id=\"edge2\" class=\"edge\">\n<title>age&#45;&gt;26&#45;30</title>\n<path fill=\"none\" stroke=\"black\" d=\"M241.32,-253.9C227.53,-247.3 209.51,-238.21 194.2,-229 179.37,-220.08 163.57,-209.11 150.65,-199.72\"/>\n<polygon fill=\"black\" stroke=\"black\" points=\"152.74,-196.92 142.61,-193.81 148.59,-202.56 152.74,-196.92\"/>\n<text text-anchor=\"middle\" x=\"210.2\" y=\"-217.8\" font-family=\"Times New Roman,serif\" font-size=\"14.00\">junior</text>\n</g>\n<!-- 31&#45;35 -->\n<g id=\"node4\" class=\"node\">\n<title>31&#45;35</title>\n<ellipse fill=\"none\" stroke=\"black\" cx=\"203.2\" cy=\"-178\" rx=\"31.4\" ry=\"18\"/>\n<text text-anchor=\"middle\" x=\"203.2\" y=\"-174.3\" font-family=\"Times New Roman,serif\" font-size=\"14.00\">31&#45;35</text>\n</g>\n<!-- age&#45;&gt;31&#45;35 -->\n<g id=\"edge3\" class=\"edge\">\n<title>age&#45;&gt;31&#45;35</title>\n<path fill=\"none\" stroke=\"black\" d=\"M252.19,-248.41C243.51,-236.1 231.21,-218.69 221.11,-204.38\"/>\n<polygon fill=\"black\" stroke=\"black\" points=\"224.04,-202.46 215.41,-196.31 218.32,-206.49 224.04,-202.46\"/>\n</g>\n<!-- 36&#45;40 -->\n<g id=\"node10\" class=\"node\">\n<title>36&#45;40</title>\n<ellipse fill=\"none\" stroke=\"black\" cx=\"283.2\" cy=\"-178\" rx=\"31.4\" ry=\"18\"/>\n<text text-anchor=\"middle\" x=\"283.2\" y=\"-174.3\" font-family=\"Times New Roman,serif\" font-size=\"14.00\">36&#45;40</text>\n</g>\n<!-- age&#45;&gt;36&#45;40 -->\n<g id=\"edge9\" class=\"edge\">\n<title>age&#45;&gt;36&#45;40</title>\n<path fill=\"none\" stroke=\"black\" d=\"M267.24,-246.8C269.93,-235.39 273.51,-220.16 276.6,-207.03\"/>\n<polygon fill=\"black\" stroke=\"black\" points=\"279.92,-208.18 278.81,-197.65 273.11,-206.58 279.92,-208.18\"/>\n<text text-anchor=\"middle\" x=\"292.2\" y=\"-217.8\" font-family=\"Times New Roman,serif\" font-size=\"14.00\">senior</text>\n</g>\n<!-- 41&#45;45 -->\n<g id=\"node11\" class=\"node\">\n<title>41&#45;45</title>\n<ellipse fill=\"none\" stroke=\"black\" cx=\"363.2\" cy=\"-178\" rx=\"31.4\" ry=\"18\"/>\n<text text-anchor=\"middle\" x=\"363.2\" y=\"-174.3\" font-family=\"Times New Roman,serif\" font-size=\"14.00\">41&#45;45</text>\n</g>\n<!-- age&#45;&gt;41&#45;45 -->\n<g id=\"edge10\" class=\"edge\">\n<title>age&#45;&gt;41&#45;45</title>\n<path fill=\"none\" stroke=\"black\" d=\"M282.29,-251.78C291.86,-245.37 303.46,-237.17 313.2,-229 322.93,-220.83 332.97,-211.1 341.47,-202.4\"/>\n<polygon fill=\"black\" stroke=\"black\" points=\"343.95,-204.87 348.34,-195.23 338.9,-200.02 343.95,-204.87\"/>\n<text text-anchor=\"middle\" x=\"346.2\" y=\"-217.8\" font-family=\"Times New Roman,serif\" font-size=\"14.00\">senior</text>\n</g>\n<!-- 46&#45;50 -->\n<g id=\"node12\" class=\"node\">\n<title>46&#45;50</title>\n<ellipse fill=\"none\" stroke=\"black\" cx=\"443.2\" cy=\"-178\" rx=\"31.4\" ry=\"18\"/>\n<text text-anchor=\"middle\" x=\"443.2\" y=\"-174.3\" font-family=\"Times New Roman,serif\" font-size=\"14.00\">46&#45;50</text>\n</g>\n<!-- age&#45;&gt;46&#45;50 -->\n<g id=\"edge11\" class=\"edge\">\n<title>age&#45;&gt;46&#45;50</title>\n<path fill=\"none\" stroke=\"black\" d=\"M288.28,-257.52C309.8,-251.51 341.33,-241.6 367.2,-229 384.15,-220.74 401.83,-209.3 415.87,-199.45\"/>\n<polygon fill=\"black\" stroke=\"black\" points=\"417.63,-202.5 423.72,-193.83 413.55,-196.81 417.63,-202.5\"/>\n<text text-anchor=\"middle\" x=\"410.2\" y=\"-217.8\" font-family=\"Times New Roman,serif\" font-size=\"14.00\">senior</text>\n</g>\n<!-- salary -->\n<g id=\"node5\" class=\"node\">\n<title>salary</title>\n<ellipse fill=\"none\" stroke=\"black\" cx=\"203.2\" cy=\"-105\" rx=\"31.7\" ry=\"18\"/>\n<text text-anchor=\"middle\" x=\"203.2\" y=\"-101.3\" font-family=\"Times New Roman,serif\" font-size=\"14.00\">salary</text>\n</g>\n<!-- 31&#45;35&#45;&gt;salary -->\n<g id=\"edge4\" class=\"edge\">\n<title>31&#45;35&#45;&gt;salary</title>\n<path fill=\"none\" stroke=\"black\" d=\"M203.2,-159.81C203.2,-152.23 203.2,-143.1 203.2,-134.54\"/>\n<polygon fill=\"black\" stroke=\"black\" points=\"206.7,-134.54 203.2,-124.54 199.7,-134.54 206.7,-134.54\"/>\n</g>\n<!-- 31K&#45;35K -->\n<g id=\"node6\" class=\"node\">\n<title>31K&#45;35K</title>\n<ellipse fill=\"none\" stroke=\"black\" cx=\"44.2\" cy=\"-18\" rx=\"44.39\" ry=\"18\"/>\n<text text-anchor=\"middle\" x=\"44.2\" y=\"-14.3\" font-family=\"Times New Roman,serif\" font-size=\"14.00\">31K&#45;35K</text>\n</g>\n<!-- salary&#45;&gt;31K&#45;35K -->\n<g id=\"edge5\" class=\"edge\">\n<title>salary&#45;&gt;31K&#45;35K</title>\n<path fill=\"none\" stroke=\"black\" d=\"M180.75,-92C154.6,-78.02 111.05,-54.74 80.17,-38.23\"/>\n<polygon fill=\"black\" stroke=\"black\" points=\"82.02,-35.25 71.56,-33.63 78.72,-41.43 82.02,-35.25\"/>\n<text text-anchor=\"middle\" x=\"150.2\" y=\"-57.8\" font-family=\"Times New Roman,serif\" font-size=\"14.00\">junior</text>\n</g>\n<!-- 41K&#45;45K -->\n<g id=\"node7\" class=\"node\">\n<title>41K&#45;45K</title>\n<ellipse fill=\"none\" stroke=\"black\" cx=\"150.2\" cy=\"-18\" rx=\"44.39\" ry=\"18\"/>\n<text text-anchor=\"middle\" x=\"150.2\" y=\"-14.3\" font-family=\"Times New Roman,serif\" font-size=\"14.00\">41K&#45;45K</text>\n</g>\n<!-- salary&#45;&gt;41K&#45;45K -->\n<g id=\"edge6\" class=\"edge\">\n<title>salary&#45;&gt;41K&#45;45K</title>\n<path fill=\"none\" stroke=\"black\" d=\"M192.98,-87.61C185.52,-75.65 175.26,-59.2 166.66,-45.4\"/>\n<polygon fill=\"black\" stroke=\"black\" points=\"169.81,-43.84 161.55,-37.2 163.87,-47.54 169.81,-43.84\"/>\n<text text-anchor=\"middle\" x=\"196.2\" y=\"-57.8\" font-family=\"Times New Roman,serif\" font-size=\"14.00\">junior</text>\n</g>\n<!-- 46K&#45;50K -->\n<g id=\"node8\" class=\"node\">\n<title>46K&#45;50K</title>\n<ellipse fill=\"none\" stroke=\"black\" cx=\"256.2\" cy=\"-18\" rx=\"44.39\" ry=\"18\"/>\n<text text-anchor=\"middle\" x=\"256.2\" y=\"-14.3\" font-family=\"Times New Roman,serif\" font-size=\"14.00\">46K&#45;50K</text>\n</g>\n<!-- salary&#45;&gt;46K&#45;50K -->\n<g id=\"edge7\" class=\"edge\">\n<title>salary&#45;&gt;46K&#45;50K</title>\n<path fill=\"none\" stroke=\"black\" d=\"M213.42,-87.61C220.87,-75.65 231.13,-59.2 239.74,-45.4\"/>\n<polygon fill=\"black\" stroke=\"black\" points=\"242.52,-47.54 244.84,-37.2 236.58,-43.84 242.52,-47.54\"/>\n<text text-anchor=\"middle\" x=\"250.2\" y=\"-57.8\" font-family=\"Times New Roman,serif\" font-size=\"14.00\">senior</text>\n</g>\n<!-- 66K&#45;70K -->\n<g id=\"node9\" class=\"node\">\n<title>66K&#45;70K</title>\n<ellipse fill=\"none\" stroke=\"black\" cx=\"362.2\" cy=\"-18\" rx=\"44.39\" ry=\"18\"/>\n<text text-anchor=\"middle\" x=\"362.2\" y=\"-14.3\" font-family=\"Times New Roman,serif\" font-size=\"14.00\">66K&#45;70K</text>\n</g>\n<!-- salary&#45;&gt;66K&#45;70K -->\n<g id=\"edge8\" class=\"edge\">\n<title>salary&#45;&gt;66K&#45;70K</title>\n<path fill=\"none\" stroke=\"black\" d=\"M226.25,-92.33C239.46,-85.59 256.31,-76.92 271.2,-69 289.65,-59.18 310.05,-48 326.85,-38.71\"/>\n<polygon fill=\"black\" stroke=\"black\" points=\"328.43,-41.84 335.48,-33.93 325.03,-35.72 328.43,-41.84\"/>\n<text text-anchor=\"middle\" x=\"316.2\" y=\"-57.8\" font-family=\"Times New Roman,serif\" font-size=\"14.00\">senior</text>\n</g>\n</g>\n</svg>\n",
      "text/plain": [
       "<graphviz.graphs.Digraph at 0x1c5d0b7dc00>"
      ]
     },
     "execution_count": 14,
     "metadata": {},
     "output_type": "execute_result"
    }
   ],
   "source": [
    "#Vẽ cây\n",
    "\n",
    "def visualize_tree(tree):\n",
    "    dot = graphviz.Digraph()\n",
    "\n",
    "    def add_nodes(tree, parent=None):\n",
    "        for node_name, subtree in tree.items():\n",
    "            if isinstance(subtree, dict):\n",
    "                if parent is not None:\n",
    "                    dot.edge(str(parent), str(node_name))\n",
    "                add_nodes(subtree, parent=node_name)\n",
    "            else:\n",
    "                dot.edge(str(parent), str(node_name), label=str(subtree))\n",
    "\n",
    "    add_nodes(tree)\n",
    "    return dot\n",
    "\n",
    "visualize_tree(id3_tree)\n"
   ]
  }
 ],
 "metadata": {
  "kernelspec": {
   "display_name": "Python 3",
   "language": "python",
   "name": "python3"
  },
  "language_info": {
   "codemirror_mode": {
    "name": "ipython",
    "version": 3
   },
   "file_extension": ".py",
   "mimetype": "text/x-python",
   "name": "python",
   "nbconvert_exporter": "python",
   "pygments_lexer": "ipython3",
   "version": "3.10.10"
  },
  "orig_nbformat": 4
 },
 "nbformat": 4,
 "nbformat_minor": 2
}
